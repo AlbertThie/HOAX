{
 "cells": [
  {
   "cell_type": "code",
   "execution_count": 1,
   "metadata": {},
   "outputs": [
    {
     "name": "stdout",
     "output_type": "stream",
     "text": [
      "[16, 14, 3, 2]\n"
     ]
    }
   ],
   "source": [
    "import json \n",
    "from netCDF4 import Dataset\n",
    "import numpy as np\n",
    "from scipy.spatial.distance import pdist\n",
    "import random\n",
    "from sklearn.model_selection import train_test_split\n",
    "import NeuralNetwork\n",
    "from GridSearch import GridSearch\n",
    "\n",
    "\n",
    "import math \n",
    "with open('configSA.json') as f:\n",
    "  config = json.loads(f.read())\n",
    "import random\n",
    "\n",
    "\n",
    "nodesbounds = config['config']['simulated_annealing'][\"hiddenlayer_size\"]\n",
    "layerbounds = config['config']['simulated_annealing'][\"hiddenlayer_number\"]\n",
    "learningrate = config['config']['simulated_annealing'][\"learning_rates\"]\n",
    "batchsize = config['config']['simulated_annealing']['batch_size']\n",
    "\n",
    "temp = config['config']['simulated_annealing'][\"temperature\"]\n",
    "nodes = [i for i in range(nodesbounds[0],nodesbounds[1],nodesbounds[2])]\n",
    "layers = [i for i in range(layerbounds[0],layerbounds[1],layerbounds[2])]\n",
    "\n",
    "nbound = len(nodes) -1\n",
    "lbound =len(layers) -1\n",
    "ebound = len(learningrate) -1\n",
    "bbound = len(batchsize) -1\n",
    "\n",
    "upperbounds = [nbound,lbound,ebound,bbound]\n",
    "lowerbounds = [0,0,0,0]\n",
    "\n",
    "positions = [random.randrange(nbound),random.randrange(lbound),random.randrange(ebound),random.randrange(bbound)]\n",
    "print(str(positions))\n",
    "\n"
   ]
  },
  {
   "cell_type": "code",
   "execution_count": null,
   "metadata": {},
   "outputs": [],
   "source": []
  },
  {
   "cell_type": "code",
   "execution_count": 2,
   "metadata": {},
   "outputs": [],
   "source": [
    "def move(positions):\n",
    "    newpositions = trymove(positions.copy())\n",
    "    while newpositions == positions:\n",
    "        print(newpositions)\n",
    "        print(positions)\n",
    "        newpositions = trymove(positions.copy())\n",
    "        \n",
    "    return newpositions\n",
    "        \n",
    "def trymove(positions):\n",
    "    for i in range(len(positions)):\n",
    "        positions[i] = getpos(positions[i],upperbounds[i],lowerbounds[i])\n",
    "        print(positions[i])\n",
    "    return positions\n",
    "\n",
    "\n",
    "def getpos(position,upperbound,lowerbound):\n",
    "    newposition = position + random.randint(-1,1)\n",
    "    if newposition <= lowerbound:\n",
    "        return lowerbound\n",
    "    elif newposition >= upperbound:\n",
    "        return upperbound\n",
    "    else:\n",
    "        return newposition\n",
    "\n",
    "    \n",
    "def calcerror(target,positionlist):\n",
    "    return (sum([abs(x - y) for x, y in zip(target, positionlist)]))\n",
    "    \n",
    "\n",
    "    "
   ]
  },
  {
   "cell_type": "code",
   "execution_count": 1,
   "metadata": {},
   "outputs": [
    {
     "ename": "NameError",
     "evalue": "name 'move' is not defined",
     "output_type": "error",
     "traceback": [
      "\u001b[0;31m---------------------------------------------------------------------------\u001b[0m",
      "\u001b[0;31mNameError\u001b[0m                                 Traceback (most recent call last)",
      "\u001b[0;32m<ipython-input-1-24d935fde42a>\u001b[0m in \u001b[0;36m<module>\u001b[0;34m\u001b[0m\n\u001b[1;32m      9\u001b[0m \u001b[0;34m\u001b[0m\u001b[0m\n\u001b[1;32m     10\u001b[0m \u001b[0;34m\u001b[0m\u001b[0m\n\u001b[0;32m---> 11\u001b[0;31m     \u001b[0mtrialpositions\u001b[0m \u001b[0;34m=\u001b[0m \u001b[0mmove\u001b[0m\u001b[0;34m(\u001b[0m\u001b[0mpositions\u001b[0m\u001b[0;34m)\u001b[0m\u001b[0;34m.\u001b[0m\u001b[0mcopy\u001b[0m\u001b[0;34m(\u001b[0m\u001b[0;34m)\u001b[0m\u001b[0;34m\u001b[0m\u001b[0;34m\u001b[0m\u001b[0m\n\u001b[0m\u001b[1;32m     12\u001b[0m \u001b[0;34m\u001b[0m\u001b[0m\n\u001b[1;32m     13\u001b[0m     \u001b[0;32mif\u001b[0m \u001b[0mstr\u001b[0m\u001b[0;34m(\u001b[0m\u001b[0mtrialpositions\u001b[0m\u001b[0;34m)\u001b[0m \u001b[0;32min\u001b[0m \u001b[0msearchlog\u001b[0m\u001b[0;34m:\u001b[0m\u001b[0;34m\u001b[0m\u001b[0;34m\u001b[0m\u001b[0m\n",
      "\u001b[0;31mNameError\u001b[0m: name 'move' is not defined"
     ]
    }
   ],
   "source": [
    "\n",
    "target = [90,14,0.001,256]\n",
    "targetsimple = [14,12,2,2]\n",
    "lowest_error = 100\n",
    "temperature = 100\n",
    "searchlog = {}\n",
    "\n",
    "\n",
    "for n in range(2000):\n",
    "    \n",
    "    \n",
    "    trialpositions = move(positions).copy()\n",
    "            \n",
    "    if str(trialpositions) in searchlog:\n",
    "        error = searchlog[str(trialpositions)]\n",
    "        print(\"library\")\n",
    "    else:\n",
    "        error = calcerror(targetsimple,trialpositions) \n",
    "        searchlog[str(trialpositions)] = error\n",
    "        print(\"new\")\n",
    "    \n",
    "    print(\"error is: \" + str(error) + \"  lowest error  )\" + str(lowest_error))\n",
    "    acceptance_threshold = math.exp(-(error-lowest_error)/ (temperature / float(n + 1)))\n",
    "    print(acceptance_threshold)\n",
    "    if error < lowest_error or random.random() < acceptance_threshold :\n",
    "        lowest_error = error\n",
    "        positions = trialpositions.copy()\n",
    "        \n",
    "\n",
    "  \n",
    "    print(positions)\n",
    "        \n",
    "\n",
    "    "
   ]
  },
  {
   "cell_type": "code",
   "execution_count": 4,
   "metadata": {},
   "outputs": [
    {
     "data": {
      "text/plain": [
       "0"
      ]
     },
     "execution_count": 4,
     "metadata": {},
     "output_type": "execute_result"
    }
   ],
   "source": [
    "random.randint(-1,1)"
   ]
  },
  {
   "cell_type": "code",
   "execution_count": null,
   "metadata": {},
   "outputs": [],
   "source": []
  },
  {
   "cell_type": "code",
   "execution_count": null,
   "metadata": {},
   "outputs": [],
   "source": []
  }
 ],
 "metadata": {
  "kernelspec": {
   "display_name": "Python 3",
   "language": "python",
   "name": "python3"
  },
  "language_info": {
   "codemirror_mode": {
    "name": "ipython",
    "version": 3
   },
   "file_extension": ".py",
   "mimetype": "text/x-python",
   "name": "python",
   "nbconvert_exporter": "python",
   "pygments_lexer": "ipython3",
   "version": "3.8.8"
  }
 },
 "nbformat": 4,
 "nbformat_minor": 4
}
