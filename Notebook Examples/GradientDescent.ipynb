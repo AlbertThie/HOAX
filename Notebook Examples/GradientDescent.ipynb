{
 "cells": [
  {
   "cell_type": "code",
   "execution_count": 1,
   "metadata": {},
   "outputs": [
    {
     "name": "stdout",
     "output_type": "stream",
     "text": [
      "{'config': {'debug': 'on', 'database': {'file': 'db.dat', 'properties': ['energy', 'gradient'], 'crdmode': 'cartesian', 'timestamp': '2021-04-23T18:25:43.511Z', 'mode': 'ab-initio', 'ab-initio': {'exe': 'QChem.exe', 'chg': 0, 'mult': 1, 'exchange': 'pbe0', 'basis': 'cc-pvdz', 'max_scf_cycles': 500, 'xc_grid': '000075000302', 'mem_static': 4000, 'mem_total': 16000, 'sym_ignore': True, 'set_iter': 50, 'input_bohr': True}}, 'neural_network': {'epochs': 200, 'epoch_step': 50, 'logging_file': 'logfile.txt', 'plotting_file': 'plottingfile.txt', 'optimizer': 'adam', 'activation': 'tanh', 'loss_function': 'MSE', 'model_filename': 'Network.pt'}, 'genetic_algorithm': {'hiddenlayer_size': [10, 100], 'validation_ratio': 0.1, 'hiddenlayer_number': [1, 50], 'learning_rates': [1, 0.0001], 'mutation_rate': 0.1, 'population_size': 6}}}\n"
     ]
    }
   ],
   "source": [
    "\n",
    "\n",
    "import json \n",
    "from netCDF4 import Dataset\n",
    "import numpy as np\n",
    "from scipy.spatial.distance import pdist\n",
    "import random\n",
    "from sklearn.model_selection import train_test_split\n",
    "from NeuralNetwork import NeuralNetwork\n",
    "from Optimizer import Optimizer\n",
    "import math \n",
    "with open('configGA.json') as f:\n",
    "  config = json.loads(f.read())\n",
    "import random\n",
    "\n",
    "print(config)"
   ]
  },
  {
   "cell_type": "code",
   "execution_count": 2,
   "metadata": {},
   "outputs": [],
   "source": [
    "database = 'db.dat'\n",
    "data = Dataset(database, mode='r')\n",
    "if config['config'][\"database\"][\"crdmode\"] == \"cartesian\":\n",
    "    dbset = np.copy(data['crd'])\n",
    "    coordinatesout = []\n",
    "    for j,i in enumerate(dbset):\n",
    "        if j == 0:\n",
    "            coordinatesout = [pdist(i)]\n",
    "        else:\n",
    "            coordinatesout = np.concatenate((coordinatesout,[pdist(i)]))\n",
    "            \n",
    "energyout =np.copy(data['energy'])-np.amin(data['energy'])     \n",
    "\n",
    "coordinates, val_coordinates, output, val_output = train_test_split(coordinatesout, energyout , test_size=config['config']['genetic_algorithm']['validation_ratio'])\n"
   ]
  },
  {
   "cell_type": "code",
   "execution_count": 3,
   "metadata": {},
   "outputs": [],
   "source": [
    "\n",
    "\n",
    "\n",
    "\n",
    "# In[ ]:\n",
    "\n",
    "\n",
    "\n",
    "class GeneticAlgorithm(Optimizer):\n",
    "    \n",
    "    \n",
    "    def __init__(self,config,train_input,train_output,val_input,val_output):\n",
    "        self.config = config\n",
    "        self.train_input = train_input\n",
    "        self.train_output = train_output\n",
    "        self.val_input = val_input\n",
    "        self.val_output = val_output\n",
    "        self.sizebounds = self.config['config']['genetic_algorithm'][\"hiddenlayer_size\"]\n",
    "        self.layerbounds = self.config['config']['genetic_algorithm'][\"hiddenlayer_number\"]\n",
    "        self.learningbounds = self.config['config']['genetic_algorithm'][\"learning_rates\"]\n",
    "        self.mutation_rate = self.config['config']['genetic_algorithm'][\"mutation_rate\"]\n",
    "        self.population_size = self.config['config']['genetic_algorithm'][\"population_size\"]\n",
    "\n",
    "    def initializePopulation(self):\n",
    "        \n",
    "        sizes = random.sample(range(self.sizebounds[0],self.sizebounds[1]), self.population_size)\n",
    "        layers = random.sample(range(self.layerbounds[0],self.layerbounds[1]), self.population_size)\n",
    "        learningrates = np.random.default_rng().uniform(self.learningbounds[0],self.learningbounds[1], self.population_size)\n",
    "        return(sizes,layers,learningrates)\n",
    "    \n",
    "    \n",
    "    def constructNetworks(self,sizes,layers,learningrates):\n",
    "        networks = []\n",
    "        for i in range(self.population_size):\n",
    "            networks.append(NeuralNetwork(self.config,self.train_input, self.train_output,self.val_input,self.val_output,sizes[i],layers[i],learningrates[i])) \n",
    "        return networks\n",
    "    \n",
    "    def trainNetworks(self,networks):\n",
    "        return (list(map(lambda x: x.train(),networks)))\n",
    "        \n",
    "    def getParents(self,fitness):\n",
    "        sort = sorted(fitness)\n",
    "        print(sort)\n",
    "        return ((fitness.index(sort[0]), fitness.index(sort[1])),sort[0])\n",
    "    \n",
    "    def generatePopulation(self,parents,sizes,layers,learningrates):\n",
    "        parent1 = (sizes[parents[0]],layers[parents[0]],learningrates[parents[0]])\n",
    "        parent2 = (sizes[parents[1]],layers[parents[1]],learningrates[parents[1]])\n",
    "\n",
    "        \n",
    "            \n",
    "        \n",
    "        \n",
    "\n",
    "    def run(self):\n",
    "        sizes, layers , learningrates = self.initializePopulation()\n",
    "        networks = self.constructNetworks(sizes,layers,learningrates)\n",
    "        fitness = self.trainNetworks(networks)\n",
    "        parents, lowest_error = self.getParents(fitness)\n",
    "        best_network = networks[parents[0]].export()\n",
    "        sizes,layers, learningrates = self.generatePopulation(parents,sizes,layers,learningrates)\n",
    "        \n",
    "      \n",
    "        \n",
    "        \n",
    "\n",
    "\n",
    "\n",
    "    "
   ]
  },
  {
   "cell_type": "code",
   "execution_count": 4,
   "metadata": {},
   "outputs": [
    {
     "name": "stdout",
     "output_type": "stream",
     "text": [
      "1.889804564982089 0 81 38 0.9374125440154535\n",
      "3.3697249081154412 50 81 38 0.9374125440154535\n",
      "0.26796022752630166 100 81 38 0.9374125440154535\n",
      "0.031273705620401264 150 81 38 0.9374125440154535\n",
      "Done Training\n",
      "2.2100827189585788 0 38 21 0.8450623228342149\n",
      "1.2234293684090585 50 38 21 0.8450623228342149\n",
      "0.08949761209624317 100 38 21 0.8450623228342149\n",
      "0.013003072784817315 150 38 21 0.8450623228342149\n",
      "Done Training\n",
      "1.0843809070494133 0 27 35 0.529178813007418\n",
      "1.062406196695808 50 27 35 0.529178813007418\n",
      "0.07568074033795875 100 27 35 0.529178813007418\n",
      "0.008681802561605466 150 27 35 0.529178813007418\n",
      "Done Training\n",
      "1.5499259868253699 0 33 18 0.7151737653791662\n",
      "1.0015153680298765 50 33 18 0.7151737653791662\n",
      "0.08644041128253356 100 33 18 0.7151737653791662\n",
      "0.006036473366449093 150 33 18 0.7151737653791662\n",
      "Done Training\n",
      "3.4363665708433295 0 82 1 0.8209810648333498\n",
      "3.896444745986067 50 82 1 0.8209810648333498\n",
      "0.23503745994325623 100 82 1 0.8209810648333498\n",
      "0.023348462908392726 150 82 1 0.8209810648333498\n",
      "Done Training\n",
      "1.664238136358817 0 42 44 0.19575033337016245\n",
      "0.32384002545656415 50 42 44 0.19575033337016245\n",
      "0.034023135147721734 100 42 44 0.19575033337016245\n",
      "0.0038628269664207067 150 42 44 0.19575033337016245\n",
      "Done Training\n",
      "[0.0038628269664207067, 0.006036473366449093, 0.008681802561605466, 0.013003072784817315, 0.023348462908392726, 0.031273705620401264]\n"
     ]
    }
   ],
   "source": [
    "\n",
    "\n",
    "\n",
    "\n",
    "test = GeneticAlgorithm(config,coordinates,  output,val_coordinates, val_output)\n",
    "test.run()\n"
   ]
  },
  {
   "cell_type": "code",
   "execution_count": null,
   "metadata": {},
   "outputs": [],
   "source": []
  },
  {
   "cell_type": "code",
   "execution_count": null,
   "metadata": {},
   "outputs": [],
   "source": []
  },
  {
   "cell_type": "code",
   "execution_count": null,
   "metadata": {},
   "outputs": [],
   "source": []
  }
 ],
 "metadata": {
  "kernelspec": {
   "display_name": "jupyterEnv",
   "language": "python",
   "name": "jupyterenv"
  },
  "language_info": {
   "codemirror_mode": {
    "name": "ipython",
    "version": 3
   },
   "file_extension": ".py",
   "mimetype": "text/x-python",
   "name": "python",
   "nbconvert_exporter": "python",
   "pygments_lexer": "ipython3",
   "version": "3.7.10"
  }
 },
 "nbformat": 4,
 "nbformat_minor": 4
}
