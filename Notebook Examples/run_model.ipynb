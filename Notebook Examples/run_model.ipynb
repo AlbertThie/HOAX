{
 "cells": [
  {
   "cell_type": "code",
   "execution_count": 3,
   "metadata": {},
   "outputs": [
    {
     "name": "stdout",
     "output_type": "stream",
     "text": [
      "<_io.TextIOWrapper name='configSA.json' mode='r' encoding='cp1252'>\n",
      "{'config': {'debug': 'on', 'database': {'file': 'db.dat', 'properties': ['energy', 'gradient'], 'crdmode': 'cartesian', 'timestamp': '2021-04-23T18:25:43.511Z', 'mode': 'ab-initio', 'ab-initio': {'exe': 'QChem.exe', 'chg': 0, 'mult': 1, 'exchange': 'pbe0', 'basis': 'cc-pvdz', 'max_scf_cycles': 500, 'xc_grid': '000075000302', 'mem_static': 4000, 'mem_total': 16000, 'sym_ignore': True, 'set_iter': 50, 'input_bohr': True}}, 'neural_network': {'epochs': 1000, 'epoch_step': 50, 'logging_file': 'logfile.txt', 'plotting_file': 'plottingfile.txt', 'optimizer': 'adam', 'activation': 'tanh', 'loss_function': 'MSE', 'model_filename': 'Network.pt'}, 'simulated_annealing': {'hiddenlayer_size': [10, 100], 'validation_ratio': 0.1, 'hiddenlayer_number': [1, 50], 'learning_rates': [1, 0.1, 0.01, 0.001, 0.0001], 'iterations': 300, 'temperature': 10}}}\n"
     ]
    }
   ],
   "source": [
    "import json \n",
    "from netCDF4 import Dataset\n",
    "import numpy as np\n",
    "from scipy.spatial.distance import pdist\n",
    "import random\n",
    "from sklearn.model_selection import train_test_split\n",
    "import NeuralNetwork\n",
    "from GridSearch import GridSearch\n",
    "\n",
    "import math \n",
    "with open('configSA.json') as f:\n",
    "  print(f)\n",
    "  config = json.loads(f.read())\n",
    "import random\n",
    "\n",
    "print(config)"
   ]
  },
  {
   "cell_type": "code",
   "execution_count": null,
   "metadata": {},
   "outputs": [],
   "source": [
    "\n",
    "lowest_error, best_network = math.inf, None\n",
    "sizebounds = config['config']['simulated_annealing']['hiddenlayer_size']\n",
    "layerbounds = config['config']['simulated_annealing']['hiddenlayer_number']\n",
    "learningbounds = config['config']['simulated_annealing']['learning_rates']\n",
    "\n",
    "\n",
    "print(random.randint(sizebounds[0],sizebounds[1]))\n",
    "print(random.choice(learningbounds))\n",
    "\n",
    "#for n in range(self.config['config']['simulated_annealing']['iterations']) :\n",
    "\n",
    "    \n",
    "\n"
   ]
  },
  {
   "cell_type": "code",
   "execution_count": null,
   "metadata": {},
   "outputs": [],
   "source": [
    "database = 'db.dat'\n",
    "data = Dataset(database, mode='r')\n",
    "if config['config'][\"database\"][\"crdmode\"] == \"cartesian\":\n",
    "    dbset = np.copy(data['crd'])\n",
    "    coordinatesout = []\n",
    "    for j,i in enumerate(dbset):\n",
    "        if j == 0:\n",
    "            coordinatesout = [pdist(i)]\n",
    "        else:\n",
    "            coordinatesout = np.concatenate((coordinatesout,[pdist(i)]))\n",
    "            \n",
    "energyout =np.copy(data['energy'])-np.amin(data['energy'])     \n",
    "print(coordinatesout)\n",
    "print(energyout)\n",
    "\n"
   ]
  },
  {
   "cell_type": "code",
   "execution_count": null,
   "metadata": {},
   "outputs": [],
   "source": [
    "coordinates, val_coordinates, output, val_output = train_test_split(coordinatesout, energyout , test_size=config['config']['simulated_annealing']['validation_ratio'])\n",
    "\n",
    "print(output,val_output)\n",
    "print(coordinates, val_coordinates)\n"
   ]
  },
  {
   "cell_type": "code",
   "execution_count": null,
   "metadata": {
    "scrolled": false
   },
   "outputs": [],
   "source": [
    "#if (any(i == 'simulated_annealing' for i in config['config'])):\n",
    "#    if (any(j == 'neural_network' for j in config['config'])):\n",
    "#        optimizer = SimulatedAnnealing(config,coordinates,  output,val_coordinates, val_output)\n",
    "#        optimizer.run()\n",
    "\n",
    "if (any(i == 'grid_search' for i in config['config'])):\n",
    "    if (any(j == 'neural_network' for j in config['config'])):\n",
    "        optimizer = GridSearch(config,coordinates,  output,val_coordinates, val_output)\n",
    "        optimizer.run()\n",
    "        \n",
    "        \n",
    "        "
   ]
  },
  {
   "cell_type": "code",
   "execution_count": null,
   "metadata": {},
   "outputs": [],
   "source": []
  },
  {
   "cell_type": "code",
   "execution_count": null,
   "metadata": {},
   "outputs": [],
   "source": []
  },
  {
   "cell_type": "code",
   "execution_count": null,
   "metadata": {},
   "outputs": [],
   "source": []
  },
  {
   "cell_type": "code",
   "execution_count": null,
   "metadata": {},
   "outputs": [],
   "source": []
  },
  {
   "cell_type": "code",
   "execution_count": null,
   "metadata": {},
   "outputs": [],
   "source": []
  }
 ],
 "metadata": {
  "celltoolbar": "Bijlagen",
  "kernelspec": {
   "display_name": "Python 3",
   "language": "python",
   "name": "python3"
  },
  "language_info": {
   "codemirror_mode": {
    "name": "ipython",
    "version": 3
   },
   "file_extension": ".py",
   "mimetype": "text/x-python",
   "name": "python",
   "nbconvert_exporter": "python",
   "pygments_lexer": "ipython3",
   "version": "3.8.8"
  }
 },
 "nbformat": 4,
 "nbformat_minor": 4
}
