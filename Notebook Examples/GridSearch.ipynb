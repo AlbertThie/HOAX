{
 "cells": [
  {
   "cell_type": "code",
   "execution_count": null,
   "metadata": {},
   "outputs": [],
   "source": [
    "import optimizer\n",
    "import NeuralNetwork"
   ]
  },
  {
   "cell_type": "code",
   "execution_count": null,
   "metadata": {},
   "outputs": [],
   "source": [
    "class GridSearch(optimizer):\n",
    "    \n",
    "    \n",
    "    def __init__(self,config,train_input,train_output,val_input,val_output):\n",
    "        self.config = config\n",
    "        self.train_input = train_input\n",
    "        self.train_output = train_output\n",
    "        self.val_input = val_input\n",
    "        self.val_output = val_output\n",
    "\n",
    "  \n",
    "    def run(self):\n",
    "        lowest_error = value\n",
    "        for g in range(self.config['config']['optimizer']['hiddensize'][0],self.config['config']['optimizer']['hiddensize'][1],self.config['config']['optimizer']['hiddensize'][2]):\n",
    "           for i in range(self.config['config']['optimizer']['hiddennumber'][0],self.config['config']['optimizer']['hiddennumber'][1],self.config['config']['optimizer']['hiddennumber'][2]):\n",
    "               for h in self.config['config']['optimizer']['learningrates']:\n",
    "                \n",
    "                    network = NeuralNetwork(self.train_input, self.train_output,self.val_input,self.val_output,\n",
    "                                                    hiddenlayer_sizes=[g],hiddennumber=[i], learningrate[n],config) \n",
    "                    \n",
    "\n",
    "    "
   ]
  }
 ],
 "metadata": {
  "kernelspec": {
   "display_name": "Python 3",
   "language": "python",
   "name": "python3"
  },
  "language_info": {
   "codemirror_mode": {
    "name": "ipython",
    "version": 3
   },
   "file_extension": ".py",
   "mimetype": "text/x-python",
   "name": "python",
   "nbconvert_exporter": "python",
   "pygments_lexer": "ipython3",
   "version": "3.8.8"
  }
 },
 "nbformat": 4,
 "nbformat_minor": 4
}
