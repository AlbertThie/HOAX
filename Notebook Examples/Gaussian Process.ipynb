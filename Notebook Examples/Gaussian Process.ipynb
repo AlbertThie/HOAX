{
 "cells": [
  {
   "cell_type": "code",
   "execution_count": 1,
   "metadata": {},
   "outputs": [
    {
     "name": "stdout",
     "output_type": "stream",
     "text": [
      "[10, 10, 5, 5]\n"
     ]
    }
   ],
   "source": [
    "import json\n",
    "import numpy as np\n",
    "from scipy.spatial.distance import pdist\n",
    "import random\n",
    "from sklearn.model_selection import train_test_split\n",
    "\n",
    "import math\n",
    "import torch\n",
    "from netCDF4 import Dataset\n",
    "from torchvision import datasets\n",
    "import gpytorch\n",
    "\n",
    "\n",
    "\n",
    "import math\n",
    "with open('../Configs/config.json') as f:\n",
    "  config = json.loads(f.read())\n",
    "import random\n",
    "\n",
    "\n",
    "nodesbounds = config['config']['grid_search'][\"hiddenlayer_size\"]\n",
    "layerbounds = config['config']['grid_search'][\"hiddenlayer_number\"]\n",
    "learningrate = config['config']['grid_search'][\"learning_rates\"]\n",
    "batchsize = config['config']['grid_search']['batch_size']\n",
    "\n",
    "\n",
    "nodes = [i for i in range(nodesbounds[0],nodesbounds[1]+nodesbounds[2],nodesbounds[2])]\n",
    "layers = [i for i in range(layerbounds[0],layerbounds[1]+layerbounds[2],layerbounds[2])]\n",
    "\n",
    "\n",
    "## Global bounds on hyper parameters\n",
    "nbound = len(nodes)\n",
    "lbound =len(layers) \n",
    "ebound = len(learningrate) \n",
    "bbound = len(batchsize) \n",
    "\n",
    "\n",
    "upperbounds = [nbound,lbound,ebound,bbound]\n",
    "lowerbounds = [0,0,0,0]\n",
    "\n",
    "targetsimple = [14,12,2,2]\n",
    "lowesterror = 100\n",
    "searchlog = {}\n",
    "\n",
    "print(upperbounds)\n",
    "\n"
   ]
  },
  {
   "cell_type": "code",
   "execution_count": 8,
   "metadata": {},
   "outputs": [
    {
     "name": "stdout",
     "output_type": "stream",
     "text": [
      "db.dat\n",
      "[[2.77941757 2.76440917 4.84697076]\n",
      " [2.76698152 2.76900611 4.83948085]\n",
      " [2.75691651 2.77593716 4.83429377]\n",
      " [2.74938863 2.78508657 4.83143719]\n",
      " [2.74453164 2.79630852 4.83089482]\n",
      " [2.74244372 2.80942972 4.83260669]\n",
      " [2.7431851  2.82425238 4.83647096]\n",
      " [2.74677709 2.8405571  4.84234703]\n",
      " [2.75320254 2.85810566 4.8500602 ]\n",
      " [2.76240746 2.87664359 4.85940741]\n",
      " [2.77430386 2.89590254 4.87016427]]\n",
      "[[1.30026000e-05 1.38476884e-01 1.58162384e-01]\n",
      " [0.00000000e+00 1.39150584e-01 1.58955644e-01]\n",
      " [2.89870001e-05 1.39480344e-01 1.59147334e-01]\n",
      " [8.40001001e-05 1.39443554e-01 1.58714964e-01]\n",
      " [1.63652300e-04 1.39037264e-01 1.57668304e-01]\n",
      " [2.81846500e-04 1.38279024e-01 1.56049534e-01]\n",
      " [4.67269800e-04 1.37206234e-01 1.53931434e-01]\n",
      " [7.61541000e-04 1.35874014e-01 1.51413464e-01]\n",
      " [1.21603860e-03 1.34351604e-01 1.48616114e-01]\n",
      " [1.88761530e-03 1.32717424e-01 1.45673914e-01]\n",
      " [2.83360780e-03 1.31053354e-01 1.42727624e-01]]\n",
      " output is [[2.89870001e-05 1.39480344e-01 1.59147334e-01]\n",
      " [2.83360780e-03 1.31053354e-01 1.42727624e-01]\n",
      " [1.21603860e-03 1.34351604e-01 1.48616114e-01]\n",
      " [0.00000000e+00 1.39150584e-01 1.58955644e-01]\n",
      " [1.63652300e-04 1.39037264e-01 1.57668304e-01]\n",
      " [8.40001001e-05 1.39443554e-01 1.58714964e-01]\n",
      " [2.81846500e-04 1.38279024e-01 1.56049534e-01]\n",
      " [1.30026000e-05 1.38476884e-01 1.58162384e-01]\n",
      " [7.61541000e-04 1.35874014e-01 1.51413464e-01]] \n",
      " validation output is [[0.00188762 0.13271742 0.14567391]\n",
      " [0.00046727 0.13720623 0.15393143]]\n",
      " coordinates is [[2.75691651 2.77593716 4.83429377]\n",
      " [2.77430386 2.89590254 4.87016427]\n",
      " [2.75320254 2.85810566 4.8500602 ]\n",
      " [2.76698152 2.76900611 4.83948085]\n",
      " [2.74453164 2.79630852 4.83089482]\n",
      " [2.74938863 2.78508657 4.83143719]\n",
      " [2.74244372 2.80942972 4.83260669]\n",
      " [2.77941757 2.76440917 4.84697076]\n",
      " [2.74677709 2.8405571  4.84234703]]\n",
      " validation coordinates [[2.76240746 2.87664359 4.85940741]\n",
      " [2.7431851  2.82425238 4.83647096]]\n"
     ]
    }
   ],
   "source": [
    "\n",
    "database =config['config'][\"database\"][\"file\"]\n",
    "print(database)\n",
    "\n",
    "data = Dataset(database, mode='r')\n",
    "if config['config'][\"database\"][\"crdmode\"] == \"cartesian\":\n",
    "    dbset = np.copy(data['crd'])\n",
    "    coordinatesout = []\n",
    "    for j,i in enumerate(dbset):\n",
    "        if j == 0:\n",
    "            coordinatesout = [pdist(i)]\n",
    "        else:\n",
    "            coordinatesout = np.concatenate((coordinatesout,[pdist(i)]))\n",
    "            \n",
    "energyout =np.copy(data['energy'])-np.amin(data['energy'])     \n",
    "print(coordinatesout)\n",
    "print(energyout)\n",
    "\n",
    "\n",
    "coordinates, val_coordinates, output, val_output = train_test_split(coordinatesout, energyout , test_size=config['config']['grid_search']['validation_ratio'])\n",
    "\n",
    "print(f\" output is {output} \")  \n",
    "print(f\" validation output is {val_output}\")\n",
    "print(f\" coordinates is {coordinates}\")\n",
    "print(f\" validation coordinates {val_coordinates}\")\n",
    "\n",
    "\n"
   ]
  },
  {
   "cell_type": "code",
   "execution_count": null,
   "metadata": {},
   "outputs": [],
   "source": []
  },
  {
   "cell_type": "code",
   "execution_count": null,
   "metadata": {},
   "outputs": [],
   "source": []
  },
  {
   "cell_type": "code",
   "execution_count": null,
   "metadata": {},
   "outputs": [],
   "source": [
    "\n"
   ]
  },
  {
   "cell_type": "code",
   "execution_count": 3,
   "metadata": {},
   "outputs": [],
   "source": [
    "#test get offspring\n"
   ]
  },
  {
   "cell_type": "code",
   "execution_count": null,
   "metadata": {},
   "outputs": [],
   "source": []
  },
  {
   "cell_type": "code",
   "execution_count": 4,
   "metadata": {},
   "outputs": [],
   "source": [
    "## test full routine\n"
   ]
  },
  {
   "cell_type": "code",
   "execution_count": null,
   "metadata": {},
   "outputs": [],
   "source": []
  },
  {
   "cell_type": "code",
   "execution_count": null,
   "metadata": {},
   "outputs": [],
   "source": []
  }
 ],
 "metadata": {
  "kernelspec": {
   "display_name": "Python 3",
   "language": "python",
   "name": "python3"
  },
  "language_info": {
   "codemirror_mode": {
    "name": "ipython",
    "version": 3
   },
   "file_extension": ".py",
   "mimetype": "text/x-python",
   "name": "python",
   "nbconvert_exporter": "python",
   "pygments_lexer": "ipython3",
   "version": "3.8.8"
  }
 },
 "nbformat": 4,
 "nbformat_minor": 4
}
