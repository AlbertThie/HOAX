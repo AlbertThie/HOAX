{
 "cells": [
  {
   "cell_type": "code",
   "execution_count": 1,
   "metadata": {},
   "outputs": [],
   "source": [
    "import json\n",
    "import numpy as np\n",
    "from scipy.spatial.distance import pdist\n",
    "import random\n",
    "from sklearn.model_selection import train_test_split\n",
    "\n",
    "import math\n",
    "import torch\n",
    "from netCDF4 import Dataset\n",
    "from torchvision import datasets\n",
    "import gpytorch\n",
    "\n",
    "from matplotlib import pyplot as plt\n",
    "\n",
    "\n",
    "\n",
    "import math\n",
    "with open('../Configs/configGAUS.json') as f:\n",
    "  config = json.loads(f.read())\n",
    "import random\n",
    "\n",
    "\n"
   ]
  },
  {
   "cell_type": "code",
   "execution_count": 2,
   "metadata": {},
   "outputs": [
    {
     "name": "stdout",
     "output_type": "stream",
     "text": [
      "../../so2a.db\n"
     ]
    }
   ],
   "source": [
    "\n",
    "database =config['config'][\"database\"][\"file\"]\n",
    "print(database)\n",
    "\n",
    "data = Dataset(database, mode='r')\n",
    "if config['config'][\"database\"][\"crdmode\"] == \"cartesian\":\n",
    "    dbset = np.copy(data['crd'])\n",
    "    coordinatesout = []\n",
    "    for j,i in enumerate(dbset):\n",
    "        if j == 0:\n",
    "            coordinatesout = [pdist(i)]\n",
    "        else:\n",
    "            coordinatesout = np.concatenate((coordinatesout,[pdist(i)]))\n",
    "            \n",
    "energyout =np.copy(data['energy'])-np.amin(data['energy'])     \n",
    "\n",
    "\n",
    "coordinates, val_coordinates, outputtrain, val_output = train_test_split(coordinatesout, energyout , test_size=config['config']['grid_search']['validation_ratio'])\n",
    "\n",
    "\n"
   ]
  },
  {
   "cell_type": "code",
   "execution_count": 3,
   "metadata": {},
   "outputs": [],
   "source": [
    "\n",
    "\n",
    "\n",
    "\n",
    "train_x = torch.tensor(coordinates[0,:]).to(torch.float32)\n",
    "train_pre = torch.tensor(outputtrain).to(torch.float32)\n",
    "\n",
    "\n",
    "train_y = torch.stack([train_pre[0,:],\n",
    "                       train_pre[1,:],\n",
    "                       train_pre[2,:]\n",
    "  ],-1)\n",
    "\n",
    "class MultitaskGPModel(gpytorch.models.ExactGP):\n",
    "    def __init__(self, train_x, train_y, likelihood):\n",
    "        super(MultitaskGPModel, self).__init__(train_x, train_y, likelihood)\n",
    "        self.mean_module = gpytorch.means.MultitaskMean(\n",
    "            gpytorch.means.ConstantMean(), num_tasks=3\n",
    "        )\n",
    "        self.covar_module = gpytorch.kernels.MultitaskKernel(\n",
    "            gpytorch.kernels.RBFKernel(), num_tasks=3, rank=1\n",
    "        )\n",
    "\n",
    "    def forward(self, x):\n",
    "        mean_x = self.mean_module(x)\n",
    "        covar_x = self.covar_module(x)\n",
    "        return gpytorch.distributions.MultitaskMultivariateNormal(mean_x, covar_x)\n",
    "\n",
    "\n",
    "likelihood = gpytorch.likelihoods.MultitaskGaussianLikelihood(num_tasks=3)\n",
    "model = MultitaskGPModel(train_x, train_y, likelihood)"
   ]
  },
  {
   "cell_type": "code",
   "execution_count": 4,
   "metadata": {},
   "outputs": [
    {
     "name": "stdout",
     "output_type": "stream",
     "text": [
      "Iter 1/50 - Loss: 1.450\n",
      "Iter 2/50 - Loss: 1.404\n",
      "Iter 3/50 - Loss: 1.360\n",
      "Iter 4/50 - Loss: 1.317\n",
      "Iter 5/50 - Loss: 1.273\n",
      "Iter 6/50 - Loss: 1.230\n",
      "Iter 7/50 - Loss: 1.189\n",
      "Iter 8/50 - Loss: 1.148\n",
      "Iter 9/50 - Loss: 1.108\n",
      "Iter 10/50 - Loss: 1.067\n",
      "Iter 11/50 - Loss: 1.026\n",
      "Iter 12/50 - Loss: 0.984\n",
      "Iter 13/50 - Loss: 0.942\n",
      "Iter 14/50 - Loss: 0.900\n",
      "Iter 15/50 - Loss: 0.857\n",
      "Iter 16/50 - Loss: 0.812\n",
      "Iter 17/50 - Loss: 0.766\n",
      "Iter 18/50 - Loss: 0.717\n",
      "Iter 19/50 - Loss: 0.667\n",
      "Iter 20/50 - Loss: 0.617\n",
      "Iter 21/50 - Loss: 0.567\n",
      "Iter 22/50 - Loss: 0.517\n",
      "Iter 23/50 - Loss: 0.467\n",
      "Iter 24/50 - Loss: 0.415\n",
      "Iter 25/50 - Loss: 0.363\n",
      "Iter 26/50 - Loss: 0.311\n",
      "Iter 27/50 - Loss: 0.260\n",
      "Iter 28/50 - Loss: 0.209\n",
      "Iter 29/50 - Loss: 0.155\n",
      "Iter 30/50 - Loss: 0.101\n",
      "Iter 31/50 - Loss: 0.047\n",
      "Iter 32/50 - Loss: -0.006\n",
      "Iter 33/50 - Loss: -0.060\n",
      "Iter 34/50 - Loss: -0.111\n",
      "Iter 35/50 - Loss: -0.163\n",
      "Iter 36/50 - Loss: -0.217\n",
      "Iter 37/50 - Loss: -0.272\n",
      "Iter 38/50 - Loss: -0.324\n",
      "Iter 39/50 - Loss: -0.376\n",
      "Iter 40/50 - Loss: -0.428\n",
      "Iter 41/50 - Loss: -0.480\n",
      "Iter 42/50 - Loss: -0.532\n",
      "Iter 43/50 - Loss: -0.583\n",
      "Iter 44/50 - Loss: -0.634\n",
      "Iter 45/50 - Loss: -0.683\n",
      "Iter 46/50 - Loss: -0.733\n",
      "Iter 47/50 - Loss: -0.780\n",
      "Iter 48/50 - Loss: -0.828\n",
      "Iter 49/50 - Loss: -0.876\n",
      "Iter 50/50 - Loss: -0.922\n"
     ]
    }
   ],
   "source": [
    "\n",
    "\n",
    "import os\n",
    "\n",
    "training_iterations =  50\n",
    "\n",
    "\n",
    "# Find optimal model hyperparameters\n",
    "model.train()\n",
    "likelihood.train()\n",
    "\n",
    "# Use the adam optimizer\n",
    "optimizer = torch.optim.Adam(model.parameters(), lr=0.1)  # Includes GaussianLikelihood parameters\n",
    "\n",
    "# \"Loss\" for GPs - the marginal log likelihood\n",
    "mll = gpytorch.mlls.ExactMarginalLogLikelihood(likelihood, model)\n",
    "\n",
    "for i in range(training_iterations):\n",
    "    optimizer.zero_grad()\n",
    "    output = model(train_x)\n",
    "    loss = -mll(output, train_y)\n",
    "    loss.backward()\n",
    "    print('Iter %d/%d - Loss: %.3f' % (i + 1, training_iterations, loss.item()))\n",
    "    optimizer.step()"
   ]
  },
  {
   "cell_type": "code",
   "execution_count": 5,
   "metadata": {},
   "outputs": [
    {
     "ename": "RuntimeError",
     "evalue": "mean should be a matrix or a batch matrix (batch mode)",
     "output_type": "error",
     "traceback": [
      "\u001b[1;31m---------------------------------------------------------------------------\u001b[0m",
      "\u001b[1;31mRuntimeError\u001b[0m                              Traceback (most recent call last)",
      "Cell \u001b[1;32mIn [5], line 12\u001b[0m\n\u001b[0;32m     10\u001b[0m     test_x \u001b[38;5;241m=\u001b[39m torch\u001b[38;5;241m.\u001b[39mlinspace(\u001b[38;5;241m0\u001b[39m, \u001b[38;5;241m1\u001b[39m, \u001b[38;5;241m51\u001b[39m)\n\u001b[0;32m     11\u001b[0m     \u001b[38;5;66;03m# This contains predictions for both outcomes as a list\u001b[39;00m\n\u001b[1;32m---> 12\u001b[0m     predictions \u001b[38;5;241m=\u001b[39m \u001b[43mlikelihood\u001b[49m\u001b[43m(\u001b[49m\u001b[38;5;241;43m*\u001b[39;49m\u001b[43mmodel\u001b[49m\u001b[43m(\u001b[49m\u001b[43mtest_x\u001b[49m\u001b[43m,\u001b[49m\u001b[43m \u001b[49m\u001b[43mtest_x\u001b[49m\u001b[43m)\u001b[49m\u001b[43m)\u001b[49m\n\u001b[0;32m     14\u001b[0m \u001b[38;5;28;01mfor\u001b[39;00m submodel, prediction, ax \u001b[38;5;129;01min\u001b[39;00m \u001b[38;5;28mzip\u001b[39m(model\u001b[38;5;241m.\u001b[39mmodels, predictions, axs):\n\u001b[0;32m     15\u001b[0m     mean \u001b[38;5;241m=\u001b[39m prediction\u001b[38;5;241m.\u001b[39mmean\n",
      "File \u001b[1;32m~\\projects\\venv\\lib\\site-packages\\gpytorch\\distributions\\multivariate_normal.py:318\u001b[0m, in \u001b[0;36mMultivariateNormal.__getitem__\u001b[1;34m(self, idx)\u001b[0m\n\u001b[0;32m    316\u001b[0m     \u001b[38;5;28;01melse\u001b[39;00m:\n\u001b[0;32m    317\u001b[0m         new_cov \u001b[38;5;241m=\u001b[39m \u001b[38;5;28mself\u001b[39m\u001b[38;5;241m.\u001b[39mlazy_covariance_matrix[(\u001b[38;5;241m*\u001b[39mrest_idx, last_idx, \u001b[38;5;28mslice\u001b[39m(\u001b[38;5;28;01mNone\u001b[39;00m, \u001b[38;5;28;01mNone\u001b[39;00m, \u001b[38;5;28;01mNone\u001b[39;00m))][\u001b[38;5;241m.\u001b[39m\u001b[38;5;241m.\u001b[39m\u001b[38;5;241m.\u001b[39m, last_idx]\n\u001b[1;32m--> 318\u001b[0m \u001b[38;5;28;01mreturn\u001b[39;00m \u001b[38;5;28;43mself\u001b[39;49m\u001b[38;5;241;43m.\u001b[39;49m\u001b[38;5;18;43m__class__\u001b[39;49m\u001b[43m(\u001b[49m\u001b[43mmean\u001b[49m\u001b[38;5;241;43m=\u001b[39;49m\u001b[43mnew_mean\u001b[49m\u001b[43m,\u001b[49m\u001b[43m \u001b[49m\u001b[43mcovariance_matrix\u001b[49m\u001b[38;5;241;43m=\u001b[39;49m\u001b[43mnew_cov\u001b[49m\u001b[43m)\u001b[49m\n",
      "File \u001b[1;32m~\\projects\\venv\\lib\\site-packages\\gpytorch\\distributions\\multitask_multivariate_normal.py:35\u001b[0m, in \u001b[0;36mMultitaskMultivariateNormal.__init__\u001b[1;34m(self, mean, covariance_matrix, validate_args, interleaved)\u001b[0m\n\u001b[0;32m     32\u001b[0m     \u001b[38;5;28;01mraise\u001b[39;00m \u001b[38;5;167;01mRuntimeError\u001b[39;00m(\u001b[38;5;124m\"\u001b[39m\u001b[38;5;124mThe covariance of a MultitaskMultivariateNormal must be a Tensor or LinearOperator\u001b[39m\u001b[38;5;124m\"\u001b[39m)\n\u001b[0;32m     34\u001b[0m \u001b[38;5;28;01mif\u001b[39;00m mean\u001b[38;5;241m.\u001b[39mdim() \u001b[38;5;241m<\u001b[39m \u001b[38;5;241m2\u001b[39m:\n\u001b[1;32m---> 35\u001b[0m     \u001b[38;5;28;01mraise\u001b[39;00m \u001b[38;5;167;01mRuntimeError\u001b[39;00m(\u001b[38;5;124m\"\u001b[39m\u001b[38;5;124mmean should be a matrix or a batch matrix (batch mode)\u001b[39m\u001b[38;5;124m\"\u001b[39m)\n\u001b[0;32m     37\u001b[0m \u001b[38;5;66;03m# Ensure that shapes are broadcasted appropriately across the mean and covariance\u001b[39;00m\n\u001b[0;32m     38\u001b[0m \u001b[38;5;66;03m# Means can have singleton dimensions for either the `n` or `t` dimensions\u001b[39;00m\n\u001b[0;32m     39\u001b[0m batch_shape \u001b[38;5;241m=\u001b[39m torch\u001b[38;5;241m.\u001b[39mbroadcast_shapes(mean\u001b[38;5;241m.\u001b[39mshape[:\u001b[38;5;241m-\u001b[39m\u001b[38;5;241m2\u001b[39m], covariance_matrix\u001b[38;5;241m.\u001b[39mshape[:\u001b[38;5;241m-\u001b[39m\u001b[38;5;241m2\u001b[39m])\n",
      "\u001b[1;31mRuntimeError\u001b[0m: mean should be a matrix or a batch matrix (batch mode)"
     ]
    },
    {
     "data": {
      "image/png": "[encoded data removed]",
      "text/plain": [
       "<Figure size 800x300 with 2 Axes>"
      ]
     },
     "metadata": {},
     "output_type": "display_data"
    }
   ],
   "source": [
    "\n",
    "# Set into eval mode\n",
    "model.eval()\n",
    "likelihood.eval()\n",
    "\n",
    "# Initialize plots\n",
    "f, axs = plt.subplots(1, 2, figsize=(8, 3))\n",
    "\n",
    "# Make predictions (use the same test points)\n",
    "with torch.no_grad(), gpytorch.settings.fast_pred_var():\n",
    "    test_x = torch.linspace(0, 1, 51)\n",
    "    # This contains predictions for both outcomes as a list\n",
    "    predictions = likelihood(*model(test_x, test_x))\n",
    "\n",
    "for submodel, prediction, ax in zip(model.models, predictions, axs):\n",
    "    mean = prediction.mean\n",
    "    lower, upper = prediction.confidence_region()\n",
    "\n",
    "    tr_x = submodel.train_inputs[0].detach().numpy()\n",
    "    tr_y = submodel.train_targets.detach().numpy()\n",
    "\n",
    "    # Plot training data as black stars\n",
    "    ax.plot(tr_x, tr_y, 'k*')\n",
    "    # Predictive mean as blue line\n",
    "    ax.plot(test_x.numpy(), mean.numpy(), 'b')\n",
    "    # Shade in confidence\n",
    "    ax.fill_between(test_x.numpy(), lower.detach().numpy(), upper.detach().numpy(), alpha=0.5)\n",
    "    ax.set_ylim([-3, 3])\n",
    "    ax.legend(['Observed Data', 'Mean', 'Confidence'])\n",
    "    ax.set_title('Observed Values (Likelihood)')\n",
    "\n",
    "None"
   ]
  },
  {
   "cell_type": "code",
   "execution_count": null,
   "metadata": {},
   "outputs": [],
   "source": [
    "#test get offspring\n"
   ]
  },
  {
   "cell_type": "code",
   "execution_count": null,
   "metadata": {},
   "outputs": [],
   "source": []
  },
  {
   "cell_type": "code",
   "execution_count": null,
   "metadata": {},
   "outputs": [],
   "source": [
    "## test full routine\n"
   ]
  },
  {
   "cell_type": "code",
   "execution_count": null,
   "metadata": {},
   "outputs": [],
   "source": []
  },
  {
   "cell_type": "code",
   "execution_count": null,
   "metadata": {},
   "outputs": [],
   "source": []
  }
 ],
 "metadata": {
  "kernelspec": {
   "display_name": "Python 3 (ipykernel)",
   "language": "python",
   "name": "python3"
  },
  "language_info": {
   "codemirror_mode": {
    "name": "ipython",
    "version": 3
   },
   "file_extension": ".py",
   "mimetype": "text/x-python",
   "name": "python",
   "nbconvert_exporter": "python",
   "pygments_lexer": "ipython3",
   "version": "3.10.5"
  }
 },
 "nbformat": 4,
 "nbformat_minor": 4
}
