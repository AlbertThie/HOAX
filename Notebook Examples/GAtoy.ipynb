{
 "cells": [
  {
   "cell_type": "code",
   "execution_count": 2,
   "id": "953e5bb6",
   "metadata": {},
   "outputs": [
    {
     "name": "stdout",
     "output_type": "stream",
     "text": [
      "[[9, 13, 0, 0], [5, 11, 3, 3], [4, 16, 2, 0], [9, 6, 2, 2], [5, 14, 2, 3], [16, 15, 3, 3]]\n"
     ]
    }
   ],
   "source": [
    "import json \n",
    "from netCDF4 import Dataset\n",
    "import numpy as np\n",
    "from scipy.spatial.distance import pdist\n",
    "import random\n",
    "from sklearn.model_selection import train_test_split\n",
    "import NeuralNetwork\n",
    "\n",
    "\n",
    "\n",
    "import math \n",
    "with open('configGA.json') as f:\n",
    "  config = json.loads(f.read())\n",
    "import random\n",
    "\n",
    "\n",
    "nodesbounds = config['config']['genetic_algorithm'][\"hiddenlayer_size\"]\n",
    "layerbounds = config['config']['genetic_algorithm'][\"hiddenlayer_number\"]\n",
    "learningrate = config['config']['genetic_algorithm'][\"learning_rates\"]\n",
    "batchsize = config['config']['genetic_algorithm']['batch_size']\n",
    "mutation = config['config']['genetic_algorithm']['mutation_rate']\n",
    "population_size = config['config']['genetic_algorithm']['population_size']\n",
    "\n",
    "nodes = [i for i in range(nodesbounds[0],nodesbounds[1],nodesbounds[2])]\n",
    "layers = [i for i in range(layerbounds[0],layerbounds[1],layerbounds[2])]\n",
    "\n",
    "nbound = len(nodes) -1\n",
    "lbound =len(layers) -1\n",
    "ebound = len(learningrate) -1\n",
    "bbound = len(batchsize) -1\n",
    "\n",
    "upperbounds = [nbound,lbound,ebound,bbound]\n",
    "lowerbounds = [0,0,0,0]\n",
    "\n",
    "targetsimple = [14,12,2,2]\n",
    "lowest_error = 100\n",
    "\n",
    "population = []\n",
    "\n",
    "for _ in range(population_size):\n",
    "        population.append([random.randrange(nbound),random.randrange(lbound),random.randrange(ebound),random.randrange(bbound)])\n",
    "\n",
    "print(population)        \n",
    "\n",
    "\n",
    "def calcerror(target,positionlist):\n",
    "    return (sum([abs(x - y) for x, y in zip(target, positionlist)]))\n",
    "    \n",
    "\n",
    "def find\n",
    "    \n",
    "\n",
    "\n",
    "\n"
   ]
  },
  {
   "cell_type": "code",
   "execution_count": null,
   "id": "433f9af5",
   "metadata": {},
   "outputs": [],
   "source": []
  }
 ],
 "metadata": {
  "kernelspec": {
   "display_name": "Python 3",
   "language": "python",
   "name": "python3"
  },
  "language_info": {
   "codemirror_mode": {
    "name": "ipython",
    "version": 3
   },
   "file_extension": ".py",
   "mimetype": "text/x-python",
   "name": "python",
   "nbconvert_exporter": "python",
   "pygments_lexer": "ipython3",
   "version": "3.8.8"
  }
 },
 "nbformat": 4,
 "nbformat_minor": 5
}
