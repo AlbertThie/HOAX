{
 "cells": [
  {
   "cell_type": "code",
   "execution_count": 1,
   "id": "a7c7685f",
   "metadata": {},
   "outputs": [
    {
     "name": "stdout",
     "output_type": "stream",
     "text": [
      "[1, 8, 0, 0]\n"
     ]
    }
   ],
   "source": [
    "import json \n",
    "from netCDF4 import Dataset\n",
    "import numpy as np\n",
    "from scipy.spatial.distance import pdist\n",
    "import random\n",
    "from sklearn.model_selection import train_test_split\n",
    "from bayes_opt import BayesianOptimization, UtilityFunction\n",
    "\n",
    "\n",
    "import math \n",
    "with open('../Configs/configBO.json') as f:\n",
    "  config = json.loads(f.read())\n",
    "import random\n",
    "\n",
    "\n",
    "nodesbounds = config['config']['bayesian_optimization'][\"hiddenlayer_size\"]\n",
    "layerbounds = config['config']['bayesian_optimization'][\"hiddenlayer_number\"]\n",
    "learningrate = config['config']['bayesian_optimization'][\"learning_rates\"]\n",
    "batchsize = config['config']['bayesian_optimization']['batch_size']\n",
    "\n",
    "temp = config['config']['bayesian_optimization'][\"temperature\"]\n",
    "nodes = [i for i in range(nodesbounds[0],nodesbounds[1],nodesbounds[2])]\n",
    "layers = [i for i in range(layerbounds[0],layerbounds[1],layerbounds[2])]\n",
    "\n",
    "nbound = len(nodes) -1\n",
    "lbound =len(layers) -1\n",
    "ebound = len(learningrate) -1\n",
    "bbound = len(batchsize) -1\n",
    "\n",
    "upperbounds = [nbound,lbound,ebound,bbound]\n",
    "lowerbounds = [0,0,0,0]\n",
    "\n",
    "positions = [random.randrange(nbound),random.randrange(lbound),random.randrange(ebound),random.randrange(bbound)]\n",
    "print(str(positions))"
   ]
  },
  {
   "cell_type": "code",
   "execution_count": 7,
   "id": "d8114ad2",
   "metadata": {},
   "outputs": [],
   "source": [
    "target = [90,14,0.001,256]\n",
    "targetsimple = [14,12,2,2]\n",
    "\n",
    "def calcerror(target,positionlist):\n",
    "    return (sum([abs(x - y) for x, y in zip(target, positionlist)]))\n",
    "\n",
    "bayesian_dict = {\"Nodes\": [lowerbounds[0],upperbounds[0]], \"Layers\":[lowerbounds[1],upperbounds[1]],\"Learningrate\":[lowerbounds[2],upperbounds[2]],\"Batch\":[lowerbounds[3],upperbounds[3]]}\n",
    "\n",
    "def training_function(targetsimple,nodes,layers,learning_rate,batch):\n",
    "    return calcerror(targetsimple,[nodes,layers,learning_rate,batch])"
   ]
  },
  {
   "cell_type": "code",
   "execution_count": 8,
   "id": "fb18ffdc",
   "metadata": {},
   "outputs": [
    {
     "name": "stdout",
     "output_type": "stream",
     "text": [
      "17\n"
     ]
    }
   ],
   "source": []
  },
  {
   "cell_type": "code",
   "execution_count": null,
   "id": "66aa175b",
   "metadata": {},
   "outputs": [],
   "source": []
  },
  {
   "cell_type": "code",
   "execution_count": null,
   "id": "7c27f19c",
   "metadata": {},
   "outputs": [],
   "source": []
  }
 ],
 "metadata": {
  "kernelspec": {
   "display_name": "Python 3",
   "language": "python",
   "name": "python3"
  },
  "language_info": {
   "codemirror_mode": {
    "name": "ipython",
    "version": 3
   },
   "file_extension": ".py",
   "mimetype": "text/x-python",
   "name": "python",
   "nbconvert_exporter": "python",
   "pygments_lexer": "ipython3",
   "version": "3.8.8"
  }
 },
 "nbformat": 4,
 "nbformat_minor": 5
}
