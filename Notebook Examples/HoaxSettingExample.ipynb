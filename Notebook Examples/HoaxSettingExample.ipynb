{
 "cells": [
  {
   "cell_type": "code",
   "execution_count": 1,
   "metadata": {},
   "outputs": [
    {
     "ename": "SyntaxError",
     "evalue": "EOL while scanning string literal (<ipython-input-1-b929bb68e132>, line 3)",
     "output_type": "error",
     "traceback": [
      "\u001b[1;36m  File \u001b[1;32m\"<ipython-input-1-b929bb68e132>\"\u001b[1;36m, line \u001b[1;32m3\u001b[0m\n\u001b[1;33m    jsonfile ='{\"config\": {\u001b[0m\n\u001b[1;37m                           ^\u001b[0m\n\u001b[1;31mSyntaxError\u001b[0m\u001b[1;31m:\u001b[0m EOL while scanning string literal\n"
     ]
    }
   ],
   "source": [
    "import json\n",
    "\n",
    "jsonfile ='{\"config\": {\n",
    "    \"debug\": \"on\",\n",
    "    \"mode\": \"ab-initio\",\n",
    "    \"ab-initio\": {\n",
    "        \"exe\" : \"QChem.exe\",\n",
    "        \"chg\" : 0,\n",
    "        \"mult\": 1,\n",
    "        \"exchange\" : \"pbe0\",\n",
    "        \"basis\" : \"cc-pvdz\"\n",
    "        \"max_scf_cycles\" : 500,\n",
    "        \"xc_grid\" : 000075000302,\n",
    "        \"mem_static\" : 4000,\n",
    "        \"mem_total\" : 16000,\n",
    "        \"sym_ignore\" : True\n",
    "        \"set_iter\" : 50\n",
    "        \"input_bohr\" : True\n",
    "        },\n",
    "    \"sampling\": {\n",
    "        \"samplingdb\" : \"sampling.db\",\n",
    "        \"method\" : \"wigner\",\n",
    "        \"from\": \"molden\",\n",
    "        \"parameters\": {\n",
    "            \"n_conditions\" : 1\n",
    "        }\n",
    "    },\n",
    "    \"database\": { \n",
    "        \"file\" : \"filename.txt\"\n",
    "        \"properties\": [\n",
    "        {\"energy\"},\n",
    "        {\"gradient\"}\n",
    "            ],\n",
    "        \"crdmode\": \"internal\",\n",
    "        \"timestamp\": \"2021-04-23T18:25:43.511Z\"\n",
    "    },\n",
    "    \"propagation\":{\n",
    "        \"n_states\" : 3,\n",
    "        \"time_final\" : 100,\n",
    "        \"timestep\" : 0.5,\n",
    "        \"initial condition\" : \"init.db\",\n",
    "        \"method\" :\"LandauZener\",\n",
    "        \"restart\" : True\n",
    "\n",
    "    },\n",
    "    \"NeuralNetwork\": {\n",
    "        \"hiddenlayer_sizes\" : 50,\n",
    "        \"learningrate\" : 0,0001,\n",
    "        \"epochs\" : 30000,\n",
    "        \"epochstep\"  : 50,\n",
    "        \"loggingfile\" : \"logfile.txt\",\n",
    "        \"plottingfile\" : \"plottingfile.txt\",\n",
    "        \"optimizer\": \"adam\",\n",
    "        \"normalizer\" : \"tanh\"\n",
    "            }\n",
    "}}    '\n",
    "\n",
    "\n",
    "\n",
    "def load_settings(config_file):\n",
    "    config = json.loads(config_file)\n",
    "    return config\n",
    "    \n",
    "\n",
    "\n",
    "def save_settings(config):\n",
    "    json.dumps(config)\n",
    "\n",
    "    save_settings()\n",
    "    "
   ]
  },
  {
   "cell_type": "code",
   "execution_count": null,
   "metadata": {},
   "outputs": [],
   "source": []
  }
 ],
 "metadata": {
  "kernelspec": {
   "display_name": "Python 3",
   "language": "python",
   "name": "python3"
  },
  "language_info": {
   "codemirror_mode": {
    "name": "ipython",
    "version": 3
   },
   "file_extension": ".py",
   "mimetype": "text/x-python",
   "name": "python",
   "nbconvert_exporter": "python",
   "pygments_lexer": "ipython3",
   "version": "3.8.8"
  }
 },
 "nbformat": 4,
 "nbformat_minor": 4
}
